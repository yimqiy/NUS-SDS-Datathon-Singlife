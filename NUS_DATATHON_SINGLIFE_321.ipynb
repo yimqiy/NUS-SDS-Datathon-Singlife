{
 "cells": [
  {
   "cell_type": "markdown",
   "metadata": {},
   "source": [
    "##### The cell below is for you to keep track of the libraries used and install those libraries quickly\n",
    "##### Ensure that the proper library names are used and the syntax of `%pip install PACKAGE_NAME` is followed"
   ]
  },
  {
   "cell_type": "code",
   "execution_count": null,
   "metadata": {},
   "outputs": [],
   "source": [
    "%pip install pandas \n",
    "%pip install matplotlib\n",
    "%pip install imblearn\n",
    "%pip install pyarrow\n",
    "%pip install fastparquet\n",
    "# add commented pip installation lines for packages used as shown above for ease of testing\n",
    "# the line should be of the format %pip install PACKAGE_NAME "
   ]
  },
  {
   "cell_type": "markdown",
   "metadata": {},
   "source": [
    "## **DO NOT CHANGE** the filepath variable\n",
    "##### Instead, create a folder named 'data' in your current working directory and \n",
    "##### have the .parquet file inside that. A relative path *must* be used when loading data into pandas"
   ]
  },
  {
   "cell_type": "code",
   "execution_count": 1,
   "metadata": {},
   "outputs": [],
   "source": [
    "# Can have as many cells as you want for code\n",
    "import pandas as pd\n",
    "import numpy as np\n",
    "import matplotlib.pyplot as plt\n",
    "from sklearn.neighbors import KNeighborsClassifier \n",
    "from collections import Counter\n",
    "from imblearn.over_sampling import SMOTE\n",
    "from sklearn.model_selection import train_test_split\n",
    "filepath = \"./data/catB_train.parquet\" \n",
    "# the initialised filepath MUST be a relative path to a folder named data that contains the parquet file"
   ]
  },
  {
   "cell_type": "markdown",
   "metadata": {},
   "source": [
    "### **ALL** Code for machine learning and dataset analysis should be entered below. \n",
    "##### Ensure that your code is clear and readable.\n",
    "##### Comments and Markdown notes are advised to direct attention to pieces of code you deem useful."
   ]
  },
  {
   "cell_type": "code",
   "execution_count": 2,
   "metadata": {},
   "outputs": [
    {
     "data": {
      "text/plain": [
       "object     214\n",
       "int64       46\n",
       "float64     44\n",
       "dtype: int64"
      ]
     },
     "execution_count": 2,
     "metadata": {},
     "output_type": "execute_result"
    }
   ],
   "source": [
    "#pd.set_option('display.max_columns', None) \n",
    "test_df = pd.read_parquet(\"./data/catB_train.parquet\")\n",
    "#show no. of each numpy type\n",
    "df = test_df\n",
    "test_df.dtypes.value_counts()"
   ]
  },
  {
   "cell_type": "code",
   "execution_count": 4,
   "metadata": {},
   "outputs": [
    {
     "name": "stderr",
     "output_type": "stream",
     "text": [
      "C:\\Users\\yimqi\\AppData\\Local\\Temp/ipykernel_37024/1458885079.py:14: FutureWarning: iteritems is deprecated and will be removed in a future version. Use .items instead.\n",
      "  for column_name,no in unique_counts.iteritems():\n"
     ]
    }
   ],
   "source": [
    "Y = test_df[\"f_purchase_lh\"].fillna(0)\n",
    "test_df = test_df.drop(columns=[\"f_purchase_lh\"])\n",
    "#remove columns without distinguishing capability\n",
    "unique_counts = test_df.nunique()\n",
    "columns_to_drop = unique_counts[unique_counts < 2].index\n",
    "test_df = test_df.drop(columns=columns_to_drop)\n",
    "\n",
    "unique_counts = unique_counts.sort_index()\n",
    "unique_counts = test_df.nunique()\n",
    "output_file_path = 'unique_counts.txt'\n",
    " \n",
    "with open(output_file_path, 'w') as file:\n",
    "    for column_name,no in unique_counts.iteritems():\n",
    "        file.write(column_name + '\\t' + str(no) + '\\n')\n",
    "    file.write('\\n')\n",
    "\n",
    "\n",
    "test_df = df_dropped\n",
    "missing_data = test_df.isnull()\n",
    "missing_count = missing_data.sum()\n",
    "missing_count = missing_count.sort_index()\n",
    "output_file_path = 'column_missing_output.txt'\n",
    " \n",
    "with open(output_file_path, 'w') as file:\n",
    "    for column_name,no in missing_count.iteritems():\n",
    "        file.write(column_name + '\\t' + str(no) + '\\n')\n",
    "    file.write('\\n')   \n",
    "float_columns = []\n",
    "#identify columns with mostly numerical data, convert them to numeric\n",
    "for column in test_df.columns:\n",
    "    try:\n",
    "        if test_df[column].str.contains(r'^\\d*\\.?\\d+$').mean() > 0.5:\n",
    "            float_columns.append(column)\n",
    "    except AttributeError:\n",
    "        pass\n",
    "for column in float_columns:\n",
    "    test_df[column] = pd.to_numeric(test_df[column], errors='coerce')"
   ]
  },
  {
   "cell_type": "code",
   "execution_count": 6,
   "metadata": {},
   "outputs": [],
   "source": [
    "#get objects\n",
    "categorical_columns = test_df.select_dtypes(include='object')\n",
    "#categorical_columns\n",
    "columns_to_encode = []\n",
    "training_cats = {}\n",
    "for column in categorical_columns:\n",
    "    if test_df[column].nunique() < 50:\n",
    "        columns_to_encode.append(column)\n",
    "        test_df[column] = pd.Categorical(test_df[column]).codes\n",
    "        training_cats[column] = pd.Categorical(test_df[column]).categories"
   ]
  },
  {
   "cell_type": "code",
   "execution_count": null,
   "metadata": {},
   "outputs": [],
   "source": [
    "# Generate unique counts and missing output for reference.\n",
    "\n",
    "unique_counts = unique_counts.sort_index()\n",
    "unique_counts = test_df.nunique()\n",
    "output_file_path = 'unique_counts.txt'\n",
    " \n",
    "with open(output_file_path, 'w') as file:\n",
    "    for column_name,no in unique_counts.iteritems():\n",
    "        file.write(column_name + '\\t' + str(no) + '\\n')\n",
    "    file.write('\\n')\n",
    "\n",
    "missing_data = test_df.isnull()\n",
    "missing_count = missing_data.sum()\n",
    "missing_count = missing_count.sort_index()\n",
    "output_file_path = 'column_missing_output.txt'\n",
    " \n",
    "with open(output_file_path, 'w') as file:\n",
    "    for column_name,no in missing_count.iteritems():\n",
    "        file.write(column_name + '\\t' + str(no) + '\\n')\n",
    "    file.write('\\n')   "
   ]
  },
  {
   "cell_type": "code",
   "execution_count": 8,
   "metadata": {},
   "outputs": [
    {
     "name": "stdout",
     "output_type": "stream",
     "text": [
      "[ 1  2  3  4  5  6  7  8  9 10 11] \n",
      " {1: 0.9999637917300311, 2: 0.9945687595046708, 3: 0.9582518647259034, 4: 0.9600622782243464, 5: 0.9349699471359258, 6: 0.9376855673835904, 7: 0.9176986023607792, 8: 0.9209935549279455, 9: 0.9046998334419581, 10: 0.9081758273589687, 11: 0.8947063509305525} \n",
      " {1: 0.8741317032509031, 2: 0.8910808557932759, 3: 0.8318977493748263, 4: 0.8516254515143096, 5: 0.8074465129202556, 6: 0.8266185051403168, 7: 0.7852181161433731, 8: 0.8007779938871908, 9: 0.7693803834398444, 10: 0.7827174215059739, 11: 0.7524312308974715}\n"
     ]
    }
   ],
   "source": [
    "numerical_columns = test_df.select_dtypes(include='number')\n",
    "numerical_columns = numerical_columns.fillna(numerical_columns.mean())\n",
    "X = numerical_columns#.drop(columns=b)\n",
    "X_train, X_val, y_train, y_val = train_test_split(X, Y, test_size=0.2, random_state=0)\n",
    "X_train, y_train = SMOTE().fit_resample(X_train, y_train)\n",
    "\n",
    "# KNN\n",
    "# Finding most appropriate number of neighbours\n",
    "neighbors = np.arange(1, 12)\n",
    "train_accuracies = {}\n",
    "test_accuracies = {}\n",
    "\n",
    "for neighbor in neighbors:\n",
    "\t# Set up a KNN Classifier\n",
    "\tknn = KNeighborsClassifier(n_neighbors=neighbor)\n",
    "  \n",
    "\t# Fit the model\n",
    "\tknn.fit(X_train, y_train)\n",
    "  \n",
    "\t# Compute accuracy\n",
    "\ttrain_accuracies[neighbor] = knn.score(X_train, y_train)\n",
    "\ttest_accuracies[neighbor] = knn.score(X_val, y_val)\n",
    "print(neighbors, '\\n', train_accuracies, '\\n', test_accuracies)"
   ]
  },
  {
   "cell_type": "markdown",
   "metadata": {},
   "source": [
    "## The cell below is **NOT** to be removed\n",
    "##### The function is to be amended so that it accepts the given input (dataframe) and returns the required output (list). \n",
    "##### It is recommended to test the function out prior to submission\n",
    "-------------------------------------------------------------------------------------------------------------------------------\n",
    "##### The hidden_data parsed into the function below will have the same layout columns wise as the dataset *SENT* to you\n",
    "##### Thus, ensure that steps taken to modify the initial dataset to fit into the model are also carried out in the function below"
   ]
  },
  {
   "cell_type": "code",
   "execution_count": 9,
   "metadata": {},
   "outputs": [],
   "source": [
    "def testing_hidden_data(hidden_data: pd.DataFrame) -> list:\n",
    "    '''DO NOT REMOVE THIS FUNCTION.\n",
    "\n",
    "The function accepts a dataframe as input and return an iterable (list)\n",
    "of binary classes as output.\n",
    "\n",
    "The function should be coded to test on hidden data\n",
    "and should include any preprocessing functions needed for your model to perform. \n",
    "    \n",
    "All relevant code MUST be included in this function.'''\n",
    "    hidden_data = hidden_data.drop(columns=columns_to_drop)\n",
    "    for column in float_columns:\n",
    "        hidden_data[column] = pd.to_numeric(hidden_data[column], errors='coerce')\n",
    "    for column in columns_to_encode:\n",
    "        hidden_data[column] = pd.Categorical(hidden_data[column],categories = training_cats[column]).codes\n",
    "    numerical_columns = hidden_data.select_dtypes(include='number')\n",
    "    numerical_columns.replace(9999, 0, inplace=True)\n",
    "    numerical_columns = numerical_columns.fillna(numerical_columns.mean())\n",
    "    result = knn.predict(numerical_columns)\n",
    "    return result"
   ]
  },
  {
   "cell_type": "markdown",
   "metadata": {},
   "source": [
    "##### Cell to check testing_hidden_data function"
   ]
  },
  {
   "cell_type": "code",
   "execution_count": 10,
   "metadata": {},
   "outputs": [
    {
     "name": "stdout",
     "output_type": "stream",
     "text": [
      "[1. 1. 0. ... 0. 0. 0.]\n"
     ]
    }
   ],
   "source": [
    "# This cell should output a list of predictions.\n",
    "test_df = pd.read_parquet(filepath)\n",
    "test_df = test_df.drop(columns=[\"f_purchase_lh\"])\n",
    "print(testing_hidden_data(test_df))"
   ]
  },
  {
   "cell_type": "markdown",
   "metadata": {},
   "source": [
    "### Please have the filename renamed and ensure that it can be run with the requirements above being met. All the best!"
   ]
  }
 ],
 "metadata": {
  "kernelspec": {
   "display_name": "Python 3",
   "language": "python",
   "name": "python3"
  },
  "language_info": {
   "codemirror_mode": {
    "name": "ipython",
    "version": 3
   },
   "file_extension": ".py",
   "mimetype": "text/x-python",
   "name": "python",
   "nbconvert_exporter": "python",
   "pygments_lexer": "ipython3",
   "version": "3.9.7"
  }
 },
 "nbformat": 4,
 "nbformat_minor": 2
}
